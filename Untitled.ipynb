{
 "cells": [
  {
   "cell_type": "markdown",
   "metadata": {},
   "source": [
    "# Day3"
   ]
  },
  {
   "cell_type": "code",
   "execution_count": null,
   "metadata": {},
   "outputs": [],
   "source": [
    "with open(\"Day3.txt\", \"r\") as f:    \n",
    "    trees = f.read()\n",
    "   \n",
    "trees_list = trees.split('\\n')\n",
    "\n",
    "tree_counter_1=0\n",
    "tree_counter_2=0\n",
    "tree_counter_3=0\n",
    "tree_counter_4=0\n",
    "tree_counter_5=0\n",
    "for i in range(0,len(trees_list)):\n",
    "    if trees_list[i][i % 31]==\"#\":\n",
    "        tree_counter_1+=1\n",
    "    if trees_list[i][3*i % 31]==\"#\":\n",
    "        tree_counter_2+=1\n",
    "    if trees_list[i][5*i % 31]==\"#\":\n",
    "        tree_counter_3+=1 \n",
    "    if trees_list[i][7*i % 31]==\"#\":\n",
    "        tree_counter_4+=1\n",
    "for i in range(0,int((len(trees_list)-(len(trees_list) % 2 ))/2)):\n",
    "    if trees_list[2*i][i % 31]==\"#\":\n",
    "        tree_counter_5+=1  \n",
    "final = tree_counter_1*tree_counter_2*tree_counter_3*tree_counter_4*tree_counter_5\n",
    "print(final)"
   ]
  },
  {
   "cell_type": "markdown",
   "metadata": {},
   "source": [
    "# Day 4"
   ]
  },
  {
   "cell_type": "code",
   "execution_count": null,
   "metadata": {},
   "outputs": [],
   "source": [
    "with open(\"Day4.txt\", \"r\") as f:    \n",
    "    passport_file = f.read()\n",
    "   \n",
    "passport_raw = passport_file.split('\\n')\n",
    "\n",
    "passports =[]\n",
    "passport = {}\n",
    "for fields in passport_raw:\n",
    "    if fields!='':\n",
    "        for keys in fields.split(' '):\n",
    "            passport.update({str(keys.split(':')[0]):str(keys.split(':')[1])})\n",
    "    else:\n",
    "        passports.append(passport)\n",
    "        passport = {}\n",
    "passports.append(passport)\n",
    "\n",
    "counter = 0\n",
    "necessary_attributes = ['byr','iyr','eyr','hgt','hcl','ecl','pid']\n",
    "for passport in passports:\n",
    "    all_attributes = True\n",
    "    for attribute in necessary_attributes:\n",
    "        if attribute not in passport.keys():\n",
    "            all_attributes = False\n",
    "            break\n",
    "    if all_attributes == True:\n",
    "        counter += 1\n",
    "counter"
   ]
  },
  {
   "cell_type": "code",
   "execution_count": null,
   "metadata": {},
   "outputs": [],
   "source": [
    "import re\n",
    "\n",
    "with open(\"Day4.txt\", \"r\") as f:    \n",
    "    passport_file = f.read()\n",
    "   \n",
    "passport_raw = passport_file.split('\\n')\n",
    "\n",
    "passports =[]\n",
    "passport = {}\n",
    "for fields in passport_raw:\n",
    "    if fields!='':\n",
    "        for keys in fields.split(' '):\n",
    "            passport.update({str(keys.split(':')[0]):str(keys.split(':')[1])})\n",
    "    else:\n",
    "        passports.append(passport)\n",
    "        passport = {}\n",
    "passports.append(passport)\n",
    "\n",
    "counter = 0\n",
    "for passport in passports:\n",
    "    try:\n",
    "        if len(passport['byr'])!=4 or int(passport['byr']) not in range(1920,2003):\n",
    "            continue\n",
    "        if len(passport['iyr'])!=4 or int(passport['iyr']) not in range(2010,2021):\n",
    "            continue\n",
    "        if len(passport['eyr'])!=4 or int(passport['eyr']) not in range(2020,2031):\n",
    "            continue\n",
    "        if passport['hgt'][-2:] not in ['cm','in']:\n",
    "            continue\n",
    "        if passport['hgt'][-2:] == 'cm' and int(passport['hgt'][:-2]) not in range(150,194):\n",
    "            continue\n",
    "        if passport['hgt'][-2:] == 'in' and int(passport['hgt'][:-2]) not in range(59,77):\n",
    "            continue\n",
    "        if not re.fullmatch(\"#[0-9a-f]{6}\",passport['hcl']):\n",
    "            continue\n",
    "        if passport['ecl'] not in ['amb','blu','brn','gry','grn','hzl','oth']:\n",
    "            continue\n",
    "        if len(passport['pid'])!=9:\n",
    "            continue\n",
    "    except:\n",
    "        continue\n",
    "    counter +=1\n",
    "counter"
   ]
  },
  {
   "cell_type": "markdown",
   "metadata": {},
   "source": [
    "# Day 5"
   ]
  },
  {
   "cell_type": "code",
   "execution_count": null,
   "metadata": {},
   "outputs": [],
   "source": [
    "from operator import itemgetter\n",
    "\n",
    "with open(\"Day5.txt\", \"r\") as f:    \n",
    "    ticket_file = f.read()\n",
    "   \n",
    "tickets = ticket_file.split('\\n')\n",
    "\n",
    "def get_row(ticket):\n",
    "    lower = 0\n",
    "    upper = 127\n",
    "    for item in ticket[:7]:\n",
    "        if item == \"F\":\n",
    "            upper = lower+int((upper-lower)/2)\n",
    "        else:\n",
    "            lower = upper-int((upper-lower)/2)\n",
    "    return lower\n",
    "\n",
    "def get_seat(ticket):\n",
    "    lower = 0\n",
    "    upper = 8\n",
    "    for item in ticket[7:]:\n",
    "        if item == \"L\":\n",
    "            upper = lower+int((upper-lower)/2)\n",
    "        else:\n",
    "            lower = upper-int((upper-lower)/2)\n",
    "    return lower\n",
    "\n",
    "max_id = 0\n",
    "\n",
    "plane = []\n",
    "for ticket in tickets:\n",
    "    row = get_row(ticket)\n",
    "    seat = get_seat(ticket)\n",
    "    if row * 8 + seat > max_id:\n",
    "        max_id = row * 8 + seat\n",
    "    plane.append([row,seat])\n",
    "\n",
    "possible_seats = []\n",
    "plane_sorted = sorted(plane, key=itemgetter(0,1))\n",
    "for i in range(len(plane_sorted)-1):\n",
    "    if plane_sorted[i][0] == plane_sorted[i+1][0] and plane_sorted[i][1]+2 == plane_sorted[i+1][1]:\n",
    "        possible_seats.append([plane_sorted[i][0],plane_sorted[i][1]+1])\n",
    "    \n",
    "print(f'Task 1: {max_id}')\n",
    "for possible_seat in possible_seats:    \n",
    "    print(f'Task 2: {possible_seat[0]*8+possible_seat[1]}')"
   ]
  },
  {
   "cell_type": "markdown",
   "metadata": {},
   "source": [
    "# Day 6"
   ]
  },
  {
   "cell_type": "markdown",
   "metadata": {},
   "source": [
    "## Task 1"
   ]
  },
  {
   "cell_type": "code",
   "execution_count": null,
   "metadata": {},
   "outputs": [],
   "source": [
    "with open(\"Day6.txt\", \"r\") as f:    \n",
    "    answers_file = f.read()\n",
    "   \n",
    "answers = answers_file.split('\\n')\n",
    "\n",
    "answer_sum = 0\n",
    "group_answers = set()\n",
    "for row in answers:\n",
    "    if row != \"\":\n",
    "        group_answers.update(set(row))\n",
    "    else:\n",
    "        answer_sum += len(group_answers)\n",
    "        group_answers = set()\n",
    "answer_sum += len(group_answers)\n",
    "print(f'Task 1: {answer_sum}')"
   ]
  },
  {
   "cell_type": "markdown",
   "metadata": {},
   "source": [
    "## Task 2"
   ]
  },
  {
   "cell_type": "code",
   "execution_count": null,
   "metadata": {},
   "outputs": [],
   "source": [
    "with open(\"Day6.txt\", \"r\") as f:    \n",
    "    answers_file = f.read()\n",
    "   \n",
    "answers = answers_file.split('\\n')\n",
    "\n",
    "answer_sum_all = 0\n",
    "group_answers_count = {}\n",
    "group_size = 0\n",
    "for row in answers:\n",
    "    if row != \"\":\n",
    "        group_size += 1\n",
    "        for letter in row:\n",
    "            try:\n",
    "                group_answers_count[letter] += 1\n",
    "            except:\n",
    "                group_answers_count[letter] = 1\n",
    "    else:\n",
    "        for key in group_answers_count.keys():\n",
    "            if group_answers_count[key] == group_size:\n",
    "                answer_sum_all += 1\n",
    "        group_size = 0\n",
    "        group_answers_count = {}\n",
    "\n",
    "for key in group_answers_count.keys():\n",
    "            if group_answers_count[key] == group_size:\n",
    "                answer_sum_all += 1\n",
    "\n",
    "print(f'Task 1: {answer_sum_all}')"
   ]
  },
  {
   "cell_type": "markdown",
   "metadata": {},
   "source": [
    "# Day 7"
   ]
  },
  {
   "cell_type": "code",
   "execution_count": null,
   "metadata": {},
   "outputs": [],
   "source": [
    "import re\n",
    "with open(\"Day7.txt\", \"r\") as f:    \n",
    "    rules_file = f.read()\n",
    "   \n",
    "rules_list = rules_file.split('\\n')\n",
    "\n",
    "contained_in = {}\n",
    "for rule in rules_list:\n",
    "    splitted = re.split(r' contain [0-9] |, [0-9] ',rule.replace(\".\",\"\").replace(\"bags\",\"bag\"))\n",
    "    for contained in splitted[1:]:\n",
    "        try:\n",
    "            contained_in[contained].append(splitted[0])\n",
    "        except:\n",
    "            contained_in[contained] = [splitted[0]]\n",
    "        \n",
    "contained_in['shiny gold bag']\n",
    "\n",
    "shiny_gold_contained = []\n",
    "def get_containers(containers):\n",
    "    for container in containers:\n",
    "        if container not in shiny_gold_contained:\n",
    "            shiny_gold_contained.append(container)\n",
    "            try:  \n",
    "                get_containers(contained_in[container])\n",
    "            except:\n",
    "                None\n",
    "            \n",
    "get_containers(contained_in['shiny gold bag'])\n",
    "print(f'Task 1: {len(shiny_gold_contained)}')\n",
    "\n",
    "contained_bags = {}\n",
    "for rule in rules_list:\n",
    "    splitted = re.split(r' contain |, ',rule.replace(\".\",\"\").replace(\"bags\",\"bag\"))\n",
    "    for contained in splitted[1:]:\n",
    "        if contained != \"no other bag\":\n",
    "            try:\n",
    "                contained_bags[splitted[0]][contained[2:]] = contained[0]\n",
    "            except:\n",
    "                contained_bags[splitted[0]] = {contained[2:]:contained[0]} \n",
    "\n",
    "def get_contained_bags(current_bag,number_of_bags):\n",
    "    for bag in contained_bags[current_bag].keys():\n",
    "        try:\n",
    "            number_of_bags = number_of_bags + int(contained_bags[current_bag][bag]) + int(contained_bags[current_bag][bag]) * get_contained_bags(bag,0)\n",
    "        except:\n",
    "            number_of_bags = number_of_bags + int(contained_bags[current_bag][bag])\n",
    "    return number_of_bags\n",
    "\n",
    "print(f\"Task 2: {get_contained_bags('shiny gold bag',0)}\")"
   ]
  },
  {
   "cell_type": "markdown",
   "metadata": {},
   "source": [
    "# Day 8"
   ]
  },
  {
   "cell_type": "code",
   "execution_count": null,
   "metadata": {},
   "outputs": [],
   "source": [
    "import re\n",
    "with open(\"Day8.txt\", \"r\") as f:    \n",
    "    instructions_file = f.read()\n",
    "   \n",
    "instruction_list = instructions_file.split('\\n')\n"
   ]
  },
  {
   "cell_type": "code",
   "execution_count": null,
   "metadata": {},
   "outputs": [],
   "source": [
    "accumulator = 0\n",
    "cur_instruction = instruction_list[0]\n",
    "loc_cur_instruction = 0\n",
    "done_instructions = []\n",
    "while loc_cur_instruction not in done_instructions:\n",
    "    done_instructions.append(loc_cur_instruction)\n",
    "    if cur_instruction[:3] == 'acc':\n",
    "        accumulator += int(cur_instruction.split(' ')[1])\n",
    "        loc_cur_instruction += 1\n",
    "    if cur_instruction[:3] == 'jmp':\n",
    "        loc_cur_instruction += int(cur_instruction.split(' ')[1])\n",
    "    if cur_instruction[:3] == 'nop':\n",
    "        loc_cur_instruction += 1\n",
    "    cur_instruction = instruction_list[loc_cur_instruction]\n",
    "\n",
    "print(f'Task 1: {accumulator}')"
   ]
  },
  {
   "cell_type": "code",
   "execution_count": null,
   "metadata": {},
   "outputs": [],
   "source": [
    "def find_terminating_instructions():\n",
    "    for row in range(len(instruction_list)):\n",
    "        accumulator = 0\n",
    "        cur_instruction = instruction_list[0]\n",
    "        loc_cur_instruction = 0\n",
    "        done_instructions = []\n",
    "        updated_instruction_list = instruction_list.copy()\n",
    "        if 'jmp' in instruction_list[row]:\n",
    "            updated_instruction_list[row] = updated_instruction_list[row].replace('jmp','nop')\n",
    "        elif 'nop' in instruction_list[row]:\n",
    "            updated_instruction_list[row] = updated_instruction_list[row].replace('nop','jmp')\n",
    "        else:\n",
    "            continue\n",
    "        while loc_cur_instruction not in done_instructions:\n",
    "            done_instructions.append(loc_cur_instruction)\n",
    "            if cur_instruction[:3] == 'acc':\n",
    "                accumulator += int(cur_instruction.split(' ')[1])\n",
    "                loc_cur_instruction += 1\n",
    "            if cur_instruction[:3] == 'jmp':\n",
    "                loc_cur_instruction += int(cur_instruction.split(' ')[1])\n",
    "                if loc_cur_instruction >= len(instruction_list):\n",
    "                    return accumulator\n",
    "            if cur_instruction[:3] == 'nop':\n",
    "                loc_cur_instruction += 1\n",
    "            cur_instruction = updated_instruction_list[loc_cur_instruction]\n",
    "\n",
    "print(f'Task 2: {find_terminating_instructions()}')"
   ]
  },
  {
   "cell_type": "markdown",
   "metadata": {},
   "source": [
    "# Day 9"
   ]
  },
  {
   "cell_type": "code",
   "execution_count": 25,
   "metadata": {},
   "outputs": [],
   "source": [
    "import re\n",
    "with open(\"Day9.txt\", \"r\") as f:    \n",
    "    xmas_file = f.read()\n",
    "   \n",
    "xmas_list = xmas_file.split('\\n')\n",
    "\n",
    "xmas_list_int = list(map(int, xmas_list))"
   ]
  },
  {
   "cell_type": "code",
   "execution_count": 29,
   "metadata": {},
   "outputs": [
    {
     "name": "stdout",
     "output_type": "stream",
     "text": [
      "Task 1: 400480901\n"
     ]
    }
   ],
   "source": [
    "def is_sum_of_previous(current_item):\n",
    "    for i in range(current_item-25,current_item-1):\n",
    "        for j in range(i+1,current_item):\n",
    "            if int(xmas_list[current_item]) == int(xmas_list[i])+int(xmas_list[j]):\n",
    "                return True\n",
    "    return False\n",
    "\n",
    "for i in range(25,len(xmas_list)):\n",
    "    if is_sum_of_previous(i) == False:\n",
    "        print(f'Task 1: {xmas_list[i]}')\n",
    "        break\n",
    "\n",
    "    "
   ]
  },
  {
   "cell_type": "code",
   "execution_count": 27,
   "metadata": {},
   "outputs": [
    {
     "name": "stdout",
     "output_type": "stream",
     "text": [
      "Task 2: max=54156689, min=13430479, final=67587168\n"
     ]
    }
   ],
   "source": [
    "def get_subset(xmas_list_int):\n",
    "    for i in range(len(xmas_list_int)):\n",
    "        for j in range(i+1,len(xmas_list_int)):\n",
    "            if sum(xmas_list_int[i:j+1]) == 400480901:\n",
    "                return xmas_list_int[i:j+1]\n",
    "\n",
    "result = get_subset(xmas_list_int)\n",
    "print(f'Task 2: max={max(result)}, min={min(result)}, final={max(result)+min(result)}')\n",
    "                "
   ]
  }
 ],
 "metadata": {
  "kernelspec": {
   "display_name": "Python 3",
   "language": "python",
   "name": "python3"
  },
  "language_info": {
   "codemirror_mode": {
    "name": "ipython",
    "version": 3
   },
   "file_extension": ".py",
   "mimetype": "text/x-python",
   "name": "python",
   "nbconvert_exporter": "python",
   "pygments_lexer": "ipython3",
   "version": "3.7.4"
  }
 },
 "nbformat": 4,
 "nbformat_minor": 2
}
