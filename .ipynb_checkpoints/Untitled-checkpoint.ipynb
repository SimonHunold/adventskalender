{
 "cells": [
  {
   "cell_type": "markdown",
   "metadata": {},
   "source": [
    "# Day3"
   ]
  },
  {
   "cell_type": "code",
   "execution_count": 3,
   "metadata": {},
   "outputs": [
    {
     "name": "stdout",
     "output_type": "stream",
     "text": [
      "3847183340\n"
     ]
    }
   ],
   "source": [
    "with open(\"Day3.txt\", \"r\") as f:    \n",
    "    trees = f.read()\n",
    "   \n",
    "trees_list = trees.split('\\n')\n",
    "\n",
    "tree_counter_1=0\n",
    "tree_counter_2=0\n",
    "tree_counter_3=0\n",
    "tree_counter_4=0\n",
    "tree_counter_5=0\n",
    "for i in range(0,len(trees_list)):\n",
    "    if trees_list[i][i % 31]==\"#\":\n",
    "        tree_counter_1+=1\n",
    "    if trees_list[i][3*i % 31]==\"#\":\n",
    "        tree_counter_2+=1\n",
    "    if trees_list[i][5*i % 31]==\"#\":\n",
    "        tree_counter_3+=1 \n",
    "    if trees_list[i][7*i % 31]==\"#\":\n",
    "        tree_counter_4+=1\n",
    "for i in range(0,int((len(trees_list)-(len(trees_list) % 2 ))/2)):\n",
    "    if trees_list[2*i][i % 31]==\"#\":\n",
    "        tree_counter_5+=1  \n",
    "final = tree_counter_1*tree_counter_2*tree_counter_3*tree_counter_4*tree_counter_5\n",
    "print(final)"
   ]
  },
  {
   "cell_type": "markdown",
   "metadata": {},
   "source": [
    "# Day 4"
   ]
  },
  {
   "cell_type": "code",
   "execution_count": 3,
   "metadata": {},
   "outputs": [
    {
     "data": {
      "text/plain": [
       "170"
      ]
     },
     "execution_count": 3,
     "metadata": {},
     "output_type": "execute_result"
    }
   ],
   "source": [
    "with open(\"Day4.txt\", \"r\") as f:    \n",
    "    passport_file = f.read()\n",
    "   \n",
    "passport_raw = passport_file.split('\\n')\n",
    "\n",
    "passports =[]\n",
    "passport = {}\n",
    "for fields in passport_raw:\n",
    "    if fields!='':\n",
    "        for keys in fields.split(' '):\n",
    "            passport.update({str(keys.split(':')[0]):str(keys.split(':')[1])})\n",
    "    else:\n",
    "        passports.append(passport)\n",
    "        passport = {}\n",
    "passports.append(passport)\n",
    "\n",
    "counter = 0\n",
    "necessary_attributes = ['byr','iyr','eyr','hgt','hcl','ecl','pid']\n",
    "for passport in passports:\n",
    "    all_attributes = True\n",
    "    for attribute in necessary_attributes:\n",
    "        if attribute not in passport.keys():\n",
    "            all_attributes = False\n",
    "            break\n",
    "    if all_attributes == True:\n",
    "        counter += 1\n",
    "counter"
   ]
  },
  {
   "cell_type": "code",
   "execution_count": 2,
   "metadata": {},
   "outputs": [
    {
     "data": {
      "text/plain": [
       "103"
      ]
     },
     "execution_count": 2,
     "metadata": {},
     "output_type": "execute_result"
    }
   ],
   "source": [
    "import re\n",
    "\n",
    "with open(\"Day4.txt\", \"r\") as f:    \n",
    "    passport_file = f.read()\n",
    "   \n",
    "passport_raw = passport_file.split('\\n')\n",
    "\n",
    "passports =[]\n",
    "passport = {}\n",
    "for fields in passport_raw:\n",
    "    if fields!='':\n",
    "        for keys in fields.split(' '):\n",
    "            passport.update({str(keys.split(':')[0]):str(keys.split(':')[1])})\n",
    "    else:\n",
    "        passports.append(passport)\n",
    "        passport = {}\n",
    "passports.append(passport)\n",
    "\n",
    "counter = 0\n",
    "for passport in passports:\n",
    "    try:\n",
    "        if len(passport['byr'])!=4 or int(passport['byr']) not in range(1920,2003):\n",
    "            continue\n",
    "        if len(passport['iyr'])!=4 or int(passport['iyr']) not in range(2010,2021):\n",
    "            continue\n",
    "        if len(passport['eyr'])!=4 or int(passport['eyr']) not in range(2020,2031):\n",
    "            continue\n",
    "        if passport['hgt'][-2:] not in ['cm','in']:\n",
    "            continue\n",
    "        if passport['hgt'][-2:] == 'cm' and int(passport['hgt'][:-2]) not in range(150,194):\n",
    "            continue\n",
    "        if passport['hgt'][-2:] == 'in' and int(passport['hgt'][:-2]) not in range(59,77):\n",
    "            continue\n",
    "        if not re.fullmatch(\"#[0-9a-f]{6}\",passport['hcl']):\n",
    "            continue\n",
    "        if passport['ecl'] not in ['amb','blu','brn','gry','grn','hzl','oth']:\n",
    "            continue\n",
    "        if len(passport['pid'])!=9:\n",
    "            continue\n",
    "    except:\n",
    "        continue\n",
    "    counter +=1\n",
    "counter"
   ]
  }
 ],
 "metadata": {
  "kernelspec": {
   "display_name": "Python 3",
   "language": "python",
   "name": "python3"
  },
  "language_info": {
   "codemirror_mode": {
    "name": "ipython",
    "version": 3
   },
   "file_extension": ".py",
   "mimetype": "text/x-python",
   "name": "python",
   "nbconvert_exporter": "python",
   "pygments_lexer": "ipython3",
   "version": "3.7.4"
  }
 },
 "nbformat": 4,
 "nbformat_minor": 2
}
