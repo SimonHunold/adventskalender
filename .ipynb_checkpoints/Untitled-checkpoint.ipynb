{
 "cells": [
  {
   "cell_type": "markdown",
   "metadata": {},
   "source": [
    "# Day3"
   ]
  },
  {
   "cell_type": "code",
   "execution_count": 1,
   "metadata": {},
   "outputs": [
    {
     "name": "stdout",
     "output_type": "stream",
     "text": [
      "3847183340\n"
     ]
    }
   ],
   "source": [
    "with open(\"Day3.txt\", \"r\") as f:    \n",
    "    trees = f.read()\n",
    "   \n",
    "trees_list = trees.split('\\n')\n",
    "\n",
    "tree_counter_1=0\n",
    "tree_counter_2=0\n",
    "tree_counter_3=0\n",
    "tree_counter_4=0\n",
    "tree_counter_5=0\n",
    "for i in range(0,len(trees_list)):\n",
    "    if trees_list[i][i % 31]==\"#\":\n",
    "        tree_counter_1+=1\n",
    "    if trees_list[i][3*i % 31]==\"#\":\n",
    "        tree_counter_2+=1\n",
    "    if trees_list[i][5*i % 31]==\"#\":\n",
    "        tree_counter_3+=1 \n",
    "    if trees_list[i][7*i % 31]==\"#\":\n",
    "        tree_counter_4+=1\n",
    "for i in range(0,int((len(trees_list)-(len(trees_list) % 2 ))/2)):\n",
    "    if trees_list[2*i][i % 31]==\"#\":\n",
    "        tree_counter_5+=1  \n",
    "final = tree_counter_1*tree_counter_2*tree_counter_3*tree_counter_4*tree_counter_5\n",
    "print(final)"
   ]
  },
  {
   "cell_type": "markdown",
   "metadata": {},
   "source": [
    "# Day 4"
   ]
  },
  {
   "cell_type": "code",
   "execution_count": 2,
   "metadata": {},
   "outputs": [
    {
     "data": {
      "text/plain": [
       "170"
      ]
     },
     "execution_count": 2,
     "metadata": {},
     "output_type": "execute_result"
    }
   ],
   "source": [
    "with open(\"Day4.txt\", \"r\") as f:    \n",
    "    passport_file = f.read()\n",
    "   \n",
    "passport_raw = passport_file.split('\\n')\n",
    "\n",
    "passports =[]\n",
    "passport = {}\n",
    "for fields in passport_raw:\n",
    "    if fields!='':\n",
    "        for keys in fields.split(' '):\n",
    "            passport.update({str(keys.split(':')[0]):str(keys.split(':')[1])})\n",
    "    else:\n",
    "        passports.append(passport)\n",
    "        passport = {}\n",
    "passports.append(passport)\n",
    "\n",
    "counter = 0\n",
    "necessary_attributes = ['byr','iyr','eyr','hgt','hcl','ecl','pid']\n",
    "for passport in passports:\n",
    "    all_attributes = True\n",
    "    for attribute in necessary_attributes:\n",
    "        if attribute not in passport.keys():\n",
    "            all_attributes = False\n",
    "            break\n",
    "    if all_attributes == True:\n",
    "        counter += 1\n",
    "counter"
   ]
  },
  {
   "cell_type": "code",
   "execution_count": 3,
   "metadata": {},
   "outputs": [
    {
     "data": {
      "text/plain": [
       "103"
      ]
     },
     "execution_count": 3,
     "metadata": {},
     "output_type": "execute_result"
    }
   ],
   "source": [
    "import re\n",
    "\n",
    "with open(\"Day4.txt\", \"r\") as f:    \n",
    "    passport_file = f.read()\n",
    "   \n",
    "passport_raw = passport_file.split('\\n')\n",
    "\n",
    "passports =[]\n",
    "passport = {}\n",
    "for fields in passport_raw:\n",
    "    if fields!='':\n",
    "        for keys in fields.split(' '):\n",
    "            passport.update({str(keys.split(':')[0]):str(keys.split(':')[1])})\n",
    "    else:\n",
    "        passports.append(passport)\n",
    "        passport = {}\n",
    "passports.append(passport)\n",
    "\n",
    "counter = 0\n",
    "for passport in passports:\n",
    "    try:\n",
    "        if len(passport['byr'])!=4 or int(passport['byr']) not in range(1920,2003):\n",
    "            continue\n",
    "        if len(passport['iyr'])!=4 or int(passport['iyr']) not in range(2010,2021):\n",
    "            continue\n",
    "        if len(passport['eyr'])!=4 or int(passport['eyr']) not in range(2020,2031):\n",
    "            continue\n",
    "        if passport['hgt'][-2:] not in ['cm','in']:\n",
    "            continue\n",
    "        if passport['hgt'][-2:] == 'cm' and int(passport['hgt'][:-2]) not in range(150,194):\n",
    "            continue\n",
    "        if passport['hgt'][-2:] == 'in' and int(passport['hgt'][:-2]) not in range(59,77):\n",
    "            continue\n",
    "        if not re.fullmatch(\"#[0-9a-f]{6}\",passport['hcl']):\n",
    "            continue\n",
    "        if passport['ecl'] not in ['amb','blu','brn','gry','grn','hzl','oth']:\n",
    "            continue\n",
    "        if len(passport['pid'])!=9:\n",
    "            continue\n",
    "    except:\n",
    "        continue\n",
    "    counter +=1\n",
    "counter"
   ]
  },
  {
   "cell_type": "markdown",
   "metadata": {},
   "source": [
    "# Day 5"
   ]
  },
  {
   "cell_type": "code",
   "execution_count": 4,
   "metadata": {},
   "outputs": [
    {
     "name": "stdout",
     "output_type": "stream",
     "text": [
      "Task 1: 928\n",
      "Task 2: 610\n"
     ]
    }
   ],
   "source": [
    "from operator import itemgetter\n",
    "\n",
    "with open(\"Day5.txt\", \"r\") as f:    \n",
    "    ticket_file = f.read()\n",
    "   \n",
    "tickets = ticket_file.split('\\n')\n",
    "\n",
    "def get_row(ticket):\n",
    "    lower = 0\n",
    "    upper = 127\n",
    "    for item in ticket[:7]:\n",
    "        if item == \"F\":\n",
    "            upper = lower+int((upper-lower)/2)\n",
    "        else:\n",
    "            lower = upper-int((upper-lower)/2)\n",
    "    return lower\n",
    "\n",
    "def get_seat(ticket):\n",
    "    lower = 0\n",
    "    upper = 8\n",
    "    for item in ticket[7:]:\n",
    "        if item == \"L\":\n",
    "            upper = lower+int((upper-lower)/2)\n",
    "        else:\n",
    "            lower = upper-int((upper-lower)/2)\n",
    "    return lower\n",
    "\n",
    "max_id = 0\n",
    "\n",
    "plane = []\n",
    "for ticket in tickets:\n",
    "    row = get_row(ticket)\n",
    "    seat = get_seat(ticket)\n",
    "    if row * 8 + seat > max_id:\n",
    "        max_id = row * 8 + seat\n",
    "    plane.append([row,seat])\n",
    "\n",
    "possible_seats = []\n",
    "plane_sorted = sorted(plane, key=itemgetter(0,1))\n",
    "for i in range(len(plane_sorted)-1):\n",
    "    if plane_sorted[i][0] == plane_sorted[i+1][0] and plane_sorted[i][1]+2 == plane_sorted[i+1][1]:\n",
    "        possible_seats.append([plane_sorted[i][0],plane_sorted[i][1]+1])\n",
    "    \n",
    "print(f'Task 1: {max_id}')\n",
    "for possible_seat in possible_seats:    \n",
    "    print(f'Task 2: {possible_seat[0]*8+possible_seat[1]}')"
   ]
  },
  {
   "cell_type": "markdown",
   "metadata": {},
   "source": [
    "# Day 6"
   ]
  },
  {
   "cell_type": "markdown",
   "metadata": {},
   "source": [
    "## Task 1"
   ]
  },
  {
   "cell_type": "code",
   "execution_count": 5,
   "metadata": {},
   "outputs": [
    {
     "name": "stdout",
     "output_type": "stream",
     "text": [
      "Task 1: 6530\n"
     ]
    }
   ],
   "source": [
    "with open(\"Day6.txt\", \"r\") as f:    \n",
    "    answers_file = f.read()\n",
    "   \n",
    "answers = answers_file.split('\\n')\n",
    "\n",
    "answer_sum = 0\n",
    "group_answers = set()\n",
    "for row in answers:\n",
    "    if row != \"\":\n",
    "        group_answers.update(set(row))\n",
    "    else:\n",
    "        answer_sum += len(group_answers)\n",
    "        group_answers = set()\n",
    "answer_sum += len(group_answers)\n",
    "print(f'Task 1: {answer_sum}')"
   ]
  },
  {
   "cell_type": "markdown",
   "metadata": {},
   "source": [
    "## Task 2"
   ]
  },
  {
   "cell_type": "code",
   "execution_count": 6,
   "metadata": {},
   "outputs": [
    {
     "name": "stdout",
     "output_type": "stream",
     "text": [
      "Task 1: 3323\n"
     ]
    }
   ],
   "source": [
    "with open(\"Day6.txt\", \"r\") as f:    \n",
    "    answers_file = f.read()\n",
    "   \n",
    "answers = answers_file.split('\\n')\n",
    "\n",
    "answer_sum_all = 0\n",
    "group_answers_count = {}\n",
    "group_size = 0\n",
    "for row in answers:\n",
    "    if row != \"\":\n",
    "        group_size += 1\n",
    "        for letter in row:\n",
    "            try:\n",
    "                group_answers_count[letter] += 1\n",
    "            except:\n",
    "                group_answers_count[letter] = 1\n",
    "    else:\n",
    "        for key in group_answers_count.keys():\n",
    "            if group_answers_count[key] == group_size:\n",
    "                answer_sum_all += 1\n",
    "        group_size = 0\n",
    "        group_answers_count = {}\n",
    "\n",
    "for key in group_answers_count.keys():\n",
    "            if group_answers_count[key] == group_size:\n",
    "                answer_sum_all += 1\n",
    "\n",
    "print(f'Task 1: {answer_sum_all}')"
   ]
  },
  {
   "cell_type": "markdown",
   "metadata": {},
   "source": [
    "# Day 7"
   ]
  },
  {
   "cell_type": "code",
   "execution_count": 7,
   "metadata": {},
   "outputs": [
    {
     "name": "stdout",
     "output_type": "stream",
     "text": [
      "Task 1: 370\n",
      "Task 2: 29547\n"
     ]
    }
   ],
   "source": [
    "import re\n",
    "with open(\"Day7.txt\", \"r\") as f:    \n",
    "    rules_file = f.read()\n",
    "   \n",
    "rules_list = rules_file.split('\\n')\n",
    "\n",
    "contained_in = {}\n",
    "for rule in rules_list:\n",
    "    splitted = re.split(r' contain [0-9] |, [0-9] ',rule.replace(\".\",\"\").replace(\"bags\",\"bag\"))\n",
    "    for contained in splitted[1:]:\n",
    "        try:\n",
    "            contained_in[contained].append(splitted[0])\n",
    "        except:\n",
    "            contained_in[contained] = [splitted[0]]\n",
    "        \n",
    "contained_in['shiny gold bag']\n",
    "\n",
    "shiny_gold_contained = []\n",
    "def get_containers(containers):\n",
    "    for container in containers:\n",
    "        if container not in shiny_gold_contained:\n",
    "            shiny_gold_contained.append(container)\n",
    "            try:  \n",
    "                get_containers(contained_in[container])\n",
    "            except:\n",
    "                None\n",
    "            \n",
    "get_containers(contained_in['shiny gold bag'])\n",
    "print(f'Task 1: {len(shiny_gold_contained)}')\n",
    "\n",
    "contained_bags = {}\n",
    "for rule in rules_list:\n",
    "    splitted = re.split(r' contain |, ',rule.replace(\".\",\"\").replace(\"bags\",\"bag\"))\n",
    "    for contained in splitted[1:]:\n",
    "        if contained != \"no other bag\":\n",
    "            try:\n",
    "                contained_bags[splitted[0]][contained[2:]] = contained[0]\n",
    "            except:\n",
    "                contained_bags[splitted[0]] = {contained[2:]:contained[0]} \n",
    "\n",
    "def get_contained_bags(current_bag,number_of_bags):\n",
    "    for bag in contained_bags[current_bag].keys():\n",
    "        try:\n",
    "            number_of_bags = number_of_bags + int(contained_bags[current_bag][bag]) + int(contained_bags[current_bag][bag]) * get_contained_bags(bag,0)\n",
    "        except:\n",
    "            number_of_bags = number_of_bags + int(contained_bags[current_bag][bag])\n",
    "    return number_of_bags\n",
    "\n",
    "print(f\"Task 2: {get_contained_bags('shiny gold bag',0)}\")"
   ]
  },
  {
   "cell_type": "markdown",
   "metadata": {},
   "source": [
    "# Day 8"
   ]
  },
  {
   "cell_type": "code",
   "execution_count": 8,
   "metadata": {},
   "outputs": [],
   "source": [
    "import re\n",
    "with open(\"Day8.txt\", \"r\") as f:    \n",
    "    instructions_file = f.read()\n",
    "   \n",
    "instruction_list = instructions_file.split('\\n')\n"
   ]
  },
  {
   "cell_type": "code",
   "execution_count": 9,
   "metadata": {},
   "outputs": [
    {
     "name": "stdout",
     "output_type": "stream",
     "text": [
      "Task 1: 1331\n"
     ]
    }
   ],
   "source": [
    "accumulator = 0\n",
    "cur_instruction = instruction_list[0]\n",
    "loc_cur_instruction = 0\n",
    "done_instructions = []\n",
    "while loc_cur_instruction not in done_instructions:\n",
    "    done_instructions.append(loc_cur_instruction)\n",
    "    if cur_instruction[:3] == 'acc':\n",
    "        accumulator += int(cur_instruction.split(' ')[1])\n",
    "        loc_cur_instruction += 1\n",
    "    if cur_instruction[:3] == 'jmp':\n",
    "        loc_cur_instruction += int(cur_instruction.split(' ')[1])\n",
    "    if cur_instruction[:3] == 'nop':\n",
    "        loc_cur_instruction += 1\n",
    "    cur_instruction = instruction_list[loc_cur_instruction]\n",
    "\n",
    "print(f'Task 1: {accumulator}')"
   ]
  },
  {
   "cell_type": "code",
   "execution_count": 10,
   "metadata": {},
   "outputs": [
    {
     "name": "stdout",
     "output_type": "stream",
     "text": [
      "Task 2: 1121\n"
     ]
    }
   ],
   "source": [
    "def find_terminating_instructions():\n",
    "    for row in range(len(instruction_list)):\n",
    "        accumulator = 0\n",
    "        cur_instruction = instruction_list[0]\n",
    "        loc_cur_instruction = 0\n",
    "        done_instructions = []\n",
    "        updated_instruction_list = instruction_list.copy()\n",
    "        if 'jmp' in instruction_list[row]:\n",
    "            updated_instruction_list[row] = updated_instruction_list[row].replace('jmp','nop')\n",
    "        elif 'nop' in instruction_list[row]:\n",
    "            updated_instruction_list[row] = updated_instruction_list[row].replace('nop','jmp')\n",
    "        else:\n",
    "            continue\n",
    "        while loc_cur_instruction not in done_instructions:\n",
    "            done_instructions.append(loc_cur_instruction)\n",
    "            if cur_instruction[:3] == 'acc':\n",
    "                accumulator += int(cur_instruction.split(' ')[1])\n",
    "                loc_cur_instruction += 1\n",
    "            if cur_instruction[:3] == 'jmp':\n",
    "                loc_cur_instruction += int(cur_instruction.split(' ')[1])\n",
    "                if loc_cur_instruction >= len(instruction_list):\n",
    "                    return accumulator\n",
    "            if cur_instruction[:3] == 'nop':\n",
    "                loc_cur_instruction += 1\n",
    "            cur_instruction = updated_instruction_list[loc_cur_instruction]\n",
    "\n",
    "print(f'Task 2: {find_terminating_instructions()}')"
   ]
  },
  {
   "cell_type": "markdown",
   "metadata": {},
   "source": [
    "# Day 9"
   ]
  },
  {
   "cell_type": "code",
   "execution_count": 11,
   "metadata": {},
   "outputs": [],
   "source": [
    "import re\n",
    "with open(\"Day9.txt\", \"r\") as f:    \n",
    "    xmas_file = f.read()\n",
    "   \n",
    "xmas_list = xmas_file.split('\\n')\n",
    "\n",
    "xmas_list_int = list(map(int, xmas_list))"
   ]
  },
  {
   "cell_type": "code",
   "execution_count": 12,
   "metadata": {},
   "outputs": [
    {
     "name": "stdout",
     "output_type": "stream",
     "text": [
      "Task 1: 400480901\n"
     ]
    }
   ],
   "source": [
    "def is_sum_of_previous(current_item):\n",
    "    for i in range(current_item-25,current_item-1):\n",
    "        for j in range(i+1,current_item):\n",
    "            if int(xmas_list[current_item]) == int(xmas_list[i])+int(xmas_list[j]):\n",
    "                return True\n",
    "    return False\n",
    "\n",
    "for i in range(25,len(xmas_list)):\n",
    "    if is_sum_of_previous(i) == False:\n",
    "        print(f'Task 1: {xmas_list[i]}')\n",
    "        break\n",
    "\n",
    "    "
   ]
  },
  {
   "cell_type": "code",
   "execution_count": 13,
   "metadata": {},
   "outputs": [
    {
     "name": "stdout",
     "output_type": "stream",
     "text": [
      "Task 2: max=54156689, min=13430479, final=67587168\n"
     ]
    }
   ],
   "source": [
    "def get_subset(xmas_list_int):\n",
    "    for i in range(len(xmas_list_int)):\n",
    "        for j in range(i+1,len(xmas_list_int)):\n",
    "            if sum(xmas_list_int[i:j+1]) == 400480901:\n",
    "                return xmas_list_int[i:j+1]\n",
    "\n",
    "result = get_subset(xmas_list_int)\n",
    "print(f'Task 2: max={max(result)}, min={min(result)}, final={max(result)+min(result)}')\n",
    "                "
   ]
  },
  {
   "cell_type": "markdown",
   "metadata": {},
   "source": [
    "# Day 10"
   ]
  },
  {
   "cell_type": "code",
   "execution_count": 14,
   "metadata": {},
   "outputs": [],
   "source": [
    "import numpy as np\n",
    "with open(\"Day10.txt\", \"r\") as f:    \n",
    "    jolts_file = f.read()\n",
    "   \n",
    "jolts_list_unsorted = list(map(int,jolts_file.split('\\n')))\n",
    "jolts_list_unsorted.append(0)\n",
    "jolts_list = sorted(jolts_list_unsorted)\n"
   ]
  },
  {
   "cell_type": "code",
   "execution_count": 15,
   "metadata": {},
   "outputs": [
    {
     "name": "stdout",
     "output_type": "stream",
     "text": [
      "Task 1: 2312\n"
     ]
    }
   ],
   "source": [
    "num_1_jolts = 0\n",
    "num_3_jolts = 1\n",
    "for i in range(len(jolts_list)-1):\n",
    "    if jolts_list[i+1]-jolts_list[i]==1:\n",
    "        num_1_jolts += 1\n",
    "    if jolts_list[i+1]-jolts_list[i]==3:\n",
    "        num_3_jolts += 1\n",
    "        \n",
    "print(f'Task 1: {(num_1_jolts)*(num_3_jolts)}')"
   ]
  },
  {
   "cell_type": "code",
   "execution_count": 16,
   "metadata": {},
   "outputs": [
    {
     "name": "stdout",
     "output_type": "stream",
     "text": [
      "Task 2: 12089663946752\n"
     ]
    }
   ],
   "source": [
    "num_adapters = []\n",
    "for i in range(len(jolts_list)-1):\n",
    "    if i <= len(jolts_list)-4:\n",
    "        if jolts_list[i+3] <= jolts_list[i]+3:\n",
    "            num_adapters.append([jolts_list[i],3])\n",
    "            continue\n",
    "    if i <= len(jolts_list)-3:\n",
    "        if jolts_list[i+2] <= jolts_list[i]+3:\n",
    "            num_adapters.append([jolts_list[i],2])\n",
    "            continue\n",
    "    if i <= len(jolts_list)-1:\n",
    "        if jolts_list[i+1] <= jolts_list[i]+3:\n",
    "            num_adapters.append([jolts_list[i],0])\n",
    "            continue\n",
    "\n",
    "group_counter = 0\n",
    "groups = []\n",
    "group_temp = []\n",
    "for i in range(0,len(num_adapters)):\n",
    "    if i == 0 and num_adapters[0][1] != 0:\n",
    "        group_temp.append(num_adapters[0][1])\n",
    "    else:\n",
    "        if num_adapters[i][1] != 0:\n",
    "            if num_adapters[i-1][1] == 0:\n",
    "                group_temp.append(num_adapters[i][1])\n",
    "            if num_adapters[i-1][1] != 0:\n",
    "                group_temp.append(num_adapters[i][1])\n",
    "        elif num_adapters[i][1] == 0 and num_adapters[i-1][1] !=0 :\n",
    "            groups.append(group_temp)\n",
    "            group_temp = []\n",
    "        else:\n",
    "            continue\n",
    "\n",
    "total = 1\n",
    "for group in groups:\n",
    "    if group == [3,3,2]: \n",
    "        total = total*7\n",
    "    elif group == [3,2]:\n",
    "        total = total*4\n",
    "    else:\n",
    "        total = total*sum(group)\n",
    "print(f'Task 2: {total}')"
   ]
  },
  {
   "cell_type": "code",
   "execution_count": 18,
   "metadata": {},
   "outputs": [],
   "source": [
    "#Graph Method\n",
    "#accessible_nodes = {}\n",
    "#for i in range(len(jolts_list)-1):\n",
    "#    nodes = []\n",
    "#    if i <= len(jolts_list)-4:\n",
    "#        if jolts_list[i+3] <= jolts_list[i]+3:\n",
    "#            nodes.append(jolts_list[i+3])\n",
    "#    if i <= len(jolts_list)-3:\n",
    "#        if jolts_list[i+2] <= jolts_list[i]+3:\n",
    "#            nodes.append(jolts_list[i+2])\n",
    "#    if i <= len(jolts_list)-1:\n",
    "#        if jolts_list[i+1] <= jolts_list[i]+3:\n",
    "#            nodes.append(jolts_list[i+1])\n",
    "#    accessible_nodes[jolts_list[i]]=nodes\n",
    "\n",
    "#accessible_nodes\n",
    "#path_counter = [0]\n",
    "#def get_paths(current_node):\n",
    "#    if current_node == 167:\n",
    "#        path_counter[0] += 1\n",
    "#        print(path_counter[0] )\n",
    "#    else:\n",
    "#        for node in accessible_nodes[current_node]:\n",
    "#            get_paths(node)\n",
    "#get_paths(0)\n",
    "    \n"
   ]
  },
  {
   "cell_type": "markdown",
   "metadata": {},
   "source": [
    "# Day 11"
   ]
  },
  {
   "cell_type": "markdown",
   "metadata": {},
   "source": [
    "## Task 1"
   ]
  },
  {
   "cell_type": "code",
   "execution_count": 19,
   "metadata": {},
   "outputs": [],
   "source": [
    "import numpy as np\n",
    "with open(\"Day11.txt\", \"r\") as f:    \n",
    "    seats_file = f.read()\n",
    "   \n",
    "seats = seats_file.split('\\n')\n",
    "seats_list = [list(row) for row in seats]\n",
    "\n",
    "seats_list.insert(0,['.']*(len(seats_list[0])+2))\n",
    "seats_list.append(['.']*(len(seats_list[-1])+2))\n",
    "for i in range(1,len(seats_list)-1):\n",
    "    seats_list[i].insert(0,'.')\n",
    "    seats_list[i].append('.')\n",
    "    \n"
   ]
  },
  {
   "cell_type": "code",
   "execution_count": 20,
   "metadata": {},
   "outputs": [
    {
     "name": "stdout",
     "output_type": "stream",
     "text": [
      "Task 1:2321\n"
     ]
    }
   ],
   "source": [
    "import copy\n",
    "modified = True\n",
    "seat_list_final = copy.deepcopy(seats_list)\n",
    "while modified == True:\n",
    "    temp_seat_list = copy.deepcopy(seat_list_final)\n",
    "    modified = False\n",
    "    for i in range(1,len(seats_list)-1):\n",
    "        for j in range(1,len(seats_list[i])-1):\n",
    "            occupied = 0\n",
    "            occupied += seat_list_final[i-1][j-1:j+2].count('#')\n",
    "\n",
    "            if seat_list_final[i][j] == '#':\n",
    "                occupied += seat_list_final[i][j-1:j+2].count('#')-1\n",
    "            else:\n",
    "                occupied += seat_list_final[i][j-1:j+2].count('#')\n",
    "\n",
    "            occupied += seat_list_final[i+1][j-1:j+2].count('#')\n",
    "            if seat_list_final[i][j] == 'L' and occupied == 0:\n",
    "                temp_seat_list[i][j] = '#'\n",
    "                modified = True\n",
    "            if seat_list_final[i][j] == '#' and occupied >= 4:\n",
    "                temp_seat_list[i][j] = 'L'\n",
    "                modified = True\n",
    "    seat_list_final = copy.deepcopy(temp_seat_list)\n",
    "\n",
    "seat_counter = 0\n",
    "for row in seat_list_final:\n",
    "    seat_counter+= row.count('#')\n",
    "    \n",
    "print(f'Task 1:{seat_counter}')\n"
   ]
  },
  {
   "cell_type": "markdown",
   "metadata": {},
   "source": [
    "## Task 2"
   ]
  },
  {
   "cell_type": "code",
   "execution_count": 21,
   "metadata": {},
   "outputs": [],
   "source": [
    "import copy\n",
    "\n",
    "directions = {'left': [0,-1], \n",
    "              'right':[0,1], \n",
    "              'up':[-1,0], \n",
    "              'down':[1,0], \n",
    "              'up_left':[-1,-1],\n",
    "              'up_right':[-1,1],\n",
    "              'down_left':[1,-1],\n",
    "              'down_right':[1,1]\n",
    "             }\n",
    "\n",
    "def find_seat(x_coordinate,y_coordinate,direction,seats):\n",
    "    counter = 0\n",
    "    if x_coordinate not in range(1,len(seats[y_coordinate])-1) or\\\n",
    "        y_coordinate not in range(1,len(seats)-1):\n",
    "            return 0\n",
    "    else:\n",
    "        if seats[y_coordinate+direction[0]][x_coordinate+direction[1]] == '#':\n",
    "            return 1\n",
    "        elif seats[y_coordinate+direction[0]][x_coordinate+direction[1]] == 'L':\n",
    "            return 0\n",
    "        else:\n",
    "            counter = find_seat(x_coordinate+direction[1],y_coordinate+direction[0],direction,seats)\n",
    "    return counter     \n"
   ]
  },
  {
   "cell_type": "code",
   "execution_count": 22,
   "metadata": {},
   "outputs": [
    {
     "name": "stdout",
     "output_type": "stream",
     "text": [
      "Task 2:2102\n"
     ]
    }
   ],
   "source": [
    "modified = True\n",
    "seat_list_final = copy.deepcopy(seats_list)\n",
    "while modified == True:\n",
    "    modified = False\n",
    "    temp_seat_list = copy.deepcopy(seat_list_final)\n",
    "    for i in range(1,len(seat_list_final)-1):\n",
    "        for j in range(1,len(seat_list_final[i])-1):\n",
    "            occupied = 0\n",
    "        \n",
    "            for key in directions.keys():\n",
    "                occupied += find_seat(j,i,directions[key],seat_list_final)\n",
    "\n",
    "            if seat_list_final[i][j] == 'L' and occupied == 0:\n",
    "                temp_seat_list[i][j] = '#'\n",
    "                modified = True\n",
    "\n",
    "            if seat_list_final[i][j] == '#' and occupied >= 5:\n",
    "                #print(further_occupied)\n",
    "                temp_seat_list[i][j] = 'L'\n",
    "                modified = True\n",
    "    seat_list_final = copy.deepcopy(temp_seat_list)\n",
    "\n",
    "seat_counter = 0\n",
    "for row in seat_list_final:\n",
    "    seat_counter+= row.count('#')\n",
    "    \n",
    "print(f'Task 2:{seat_counter}')"
   ]
  },
  {
   "cell_type": "code",
   "execution_count": null,
   "metadata": {},
   "outputs": [],
   "source": []
  }
 ],
 "metadata": {
  "kernelspec": {
   "display_name": "Python 3",
   "language": "python",
   "name": "python3"
  },
  "language_info": {
   "codemirror_mode": {
    "name": "ipython",
    "version": 3
   },
   "file_extension": ".py",
   "mimetype": "text/x-python",
   "name": "python",
   "nbconvert_exporter": "python",
   "pygments_lexer": "ipython3",
   "version": "3.7.4"
  }
 },
 "nbformat": 4,
 "nbformat_minor": 2
}
